{
 "cells": [
  {
   "cell_type": "markdown",
   "id": "9ec1c9d2-d48d-4357-93dd-89e880743bea",
   "metadata": {},
   "source": [
    "# Code Experiments"
   ]
  },
  {
   "cell_type": "markdown",
   "id": "501d1190-deef-4292-96c2-dacb44272193",
   "metadata": {},
   "source": [
    "Import packages"
   ]
  },
  {
   "cell_type": "code",
   "execution_count": 97,
   "id": "7cd33dcb-b190-4e0a-9a16-069008c12bca",
   "metadata": {
    "execution": {
     "iopub.execute_input": "2022-05-25T14:41:00.147609Z",
     "iopub.status.busy": "2022-05-25T14:41:00.146967Z",
     "iopub.status.idle": "2022-05-25T14:41:00.622946Z",
     "shell.execute_reply": "2022-05-25T14:41:00.622117Z",
     "shell.execute_reply.started": "2022-05-25T14:41:00.147556Z"
    },
    "tags": []
   },
   "outputs": [],
   "source": [
    "# Data analysis\n",
    "import os\n",
    "import pandas as pd\n",
    "from tqdm import tqdm # For telling me how long there is left for my code to run (Progress bar)\n",
    "import numpy as np\n",
    "\n",
    "# NLP\n",
    "import spacy\n",
    "nlp = spacy.load(\"en_core_web_sm\")\n",
    "\n",
    "# sentiment analysis VADER\n",
    "from vaderSentiment.vaderSentiment import SentimentIntensityAnalyzer\n",
    "analyzer = SentimentIntensityAnalyzer() # Initializing VADER\n",
    "# sentiment with spacyTextBlob\n",
    "from spacytextblob.spacytextblob import SpacyTextBlob\n",
    "nlp.add_pipe('spacytextblob') # Add to spacy pipeline\n",
    "\n",
    "# visualisations\n",
    "import matplotlib.pyplot as plt"
   ]
  },
  {
   "cell_type": "markdown",
   "id": "d9488d15-0f42-4047-9829-5ea0126cd96f",
   "metadata": {},
   "source": [
    "Load Data"
   ]
  },
  {
   "cell_type": "code",
   "execution_count": 2,
   "id": "1ec8fef5-616a-4193-8707-8439e971b20d",
   "metadata": {
    "execution": {
     "iopub.execute_input": "2022-05-25T13:21:31.067624Z",
     "iopub.status.busy": "2022-05-25T13:21:31.067128Z",
     "iopub.status.idle": "2022-05-25T13:21:31.769379Z",
     "shell.execute_reply": "2022-05-25T13:21:31.768698Z",
     "shell.execute_reply.started": "2022-05-25T13:21:31.067573Z"
    },
    "tags": []
   },
   "outputs": [],
   "source": [
    "# Get the filepath\n",
    "filepath = os.path.join(\"..\", \"..\", \"..\", \"CDS-LANG\", \"tabular_examples\", \"fake_or_real_news.csv\")\n",
    "# Reading the filepath \n",
    "data = pd.read_csv(filepath)"
   ]
  },
  {
   "cell_type": "code",
   "execution_count": 3,
   "id": "6367ec06-5ce8-4cca-b367-1195228e5f14",
   "metadata": {
    "execution": {
     "iopub.execute_input": "2022-05-25T13:21:33.887593Z",
     "iopub.status.busy": "2022-05-25T13:21:33.886953Z",
     "iopub.status.idle": "2022-05-25T13:21:33.902694Z",
     "shell.execute_reply": "2022-05-25T13:21:33.902052Z",
     "shell.execute_reply.started": "2022-05-25T13:21:33.887541Z"
    },
    "tags": []
   },
   "outputs": [
    {
     "data": {
      "text/html": [
       "<div>\n",
       "<style scoped>\n",
       "    .dataframe tbody tr th:only-of-type {\n",
       "        vertical-align: middle;\n",
       "    }\n",
       "\n",
       "    .dataframe tbody tr th {\n",
       "        vertical-align: top;\n",
       "    }\n",
       "\n",
       "    .dataframe thead th {\n",
       "        text-align: right;\n",
       "    }\n",
       "</style>\n",
       "<table border=\"1\" class=\"dataframe\">\n",
       "  <thead>\n",
       "    <tr style=\"text-align: right;\">\n",
       "      <th></th>\n",
       "      <th>Unnamed: 0</th>\n",
       "      <th>title</th>\n",
       "      <th>text</th>\n",
       "      <th>label</th>\n",
       "    </tr>\n",
       "  </thead>\n",
       "  <tbody>\n",
       "    <tr>\n",
       "      <th>0</th>\n",
       "      <td>8476</td>\n",
       "      <td>You Can Smell Hillary’s Fear</td>\n",
       "      <td>Daniel Greenfield, a Shillman Journalism Fello...</td>\n",
       "      <td>FAKE</td>\n",
       "    </tr>\n",
       "    <tr>\n",
       "      <th>1</th>\n",
       "      <td>10294</td>\n",
       "      <td>Watch The Exact Moment Paul Ryan Committed Pol...</td>\n",
       "      <td>Google Pinterest Digg Linkedin Reddit Stumbleu...</td>\n",
       "      <td>FAKE</td>\n",
       "    </tr>\n",
       "    <tr>\n",
       "      <th>2</th>\n",
       "      <td>3608</td>\n",
       "      <td>Kerry to go to Paris in gesture of sympathy</td>\n",
       "      <td>U.S. Secretary of State John F. Kerry said Mon...</td>\n",
       "      <td>REAL</td>\n",
       "    </tr>\n",
       "    <tr>\n",
       "      <th>3</th>\n",
       "      <td>10142</td>\n",
       "      <td>Bernie supporters on Twitter erupt in anger ag...</td>\n",
       "      <td>— Kaydee King (@KaydeeKing) November 9, 2016 T...</td>\n",
       "      <td>FAKE</td>\n",
       "    </tr>\n",
       "    <tr>\n",
       "      <th>4</th>\n",
       "      <td>875</td>\n",
       "      <td>The Battle of New York: Why This Primary Matters</td>\n",
       "      <td>It's primary day in New York and front-runners...</td>\n",
       "      <td>REAL</td>\n",
       "    </tr>\n",
       "  </tbody>\n",
       "</table>\n",
       "</div>"
      ],
      "text/plain": [
       "   Unnamed: 0                                              title  \\\n",
       "0        8476                       You Can Smell Hillary’s Fear   \n",
       "1       10294  Watch The Exact Moment Paul Ryan Committed Pol...   \n",
       "2        3608        Kerry to go to Paris in gesture of sympathy   \n",
       "3       10142  Bernie supporters on Twitter erupt in anger ag...   \n",
       "4         875   The Battle of New York: Why This Primary Matters   \n",
       "\n",
       "                                                text label  \n",
       "0  Daniel Greenfield, a Shillman Journalism Fello...  FAKE  \n",
       "1  Google Pinterest Digg Linkedin Reddit Stumbleu...  FAKE  \n",
       "2  U.S. Secretary of State John F. Kerry said Mon...  REAL  \n",
       "3  — Kaydee King (@KaydeeKing) November 9, 2016 T...  FAKE  \n",
       "4  It's primary day in New York and front-runners...  REAL  "
      ]
     },
     "execution_count": 3,
     "metadata": {},
     "output_type": "execute_result"
    }
   ],
   "source": [
    "# CHecking the data \n",
    "data.head()"
   ]
  },
  {
   "cell_type": "code",
   "execution_count": 4,
   "id": "95dba5cb-5c8b-4266-ba36-ac27d60c2db8",
   "metadata": {
    "execution": {
     "iopub.execute_input": "2022-05-25T13:21:35.077178Z",
     "iopub.status.busy": "2022-05-25T13:21:35.076663Z",
     "iopub.status.idle": "2022-05-25T13:21:35.088476Z",
     "shell.execute_reply": "2022-05-25T13:21:35.087826Z",
     "shell.execute_reply.started": "2022-05-25T13:21:35.077128Z"
    },
    "tags": []
   },
   "outputs": [
    {
     "data": {
      "text/plain": [
       "REAL    3171\n",
       "FAKE    3164\n",
       "Name: label, dtype: int64"
      ]
     },
     "execution_count": 4,
     "metadata": {},
     "output_type": "execute_result"
    }
   ],
   "source": [
    "# Having a look at the REAL and FAKE values \n",
    "data[\"label\"].value_counts()"
   ]
  },
  {
   "cell_type": "markdown",
   "id": "878dbd5e-3910-46e3-afaa-45c988f5f60d",
   "metadata": {},
   "source": [
    "Split data"
   ]
  },
  {
   "cell_type": "code",
   "execution_count": 5,
   "id": "b93ccbce-709d-4d5a-91b2-01c8dfb0fa2b",
   "metadata": {
    "execution": {
     "iopub.execute_input": "2022-05-25T13:21:42.079824Z",
     "iopub.status.busy": "2022-05-25T13:21:42.079321Z",
     "iopub.status.idle": "2022-05-25T13:21:42.097825Z",
     "shell.execute_reply": "2022-05-25T13:21:42.096850Z",
     "shell.execute_reply.started": "2022-05-25T13:21:42.079775Z"
    },
    "tags": []
   },
   "outputs": [
    {
     "data": {
      "text/plain": [
       "REAL    3171\n",
       "Name: label, dtype: int64"
      ]
     },
     "execution_count": 5,
     "metadata": {},
     "output_type": "execute_result"
    }
   ],
   "source": [
    "# Creating real_news dataset\n",
    "real_news = data[data['label'] == \"REAL\"]\n",
    "# resetting index\n",
    "real_news = real_news.reset_index()\n",
    "# Checking dataset \n",
    "real_news[\"label\"].value_counts()"
   ]
  },
  {
   "cell_type": "code",
   "execution_count": 6,
   "id": "bb01692e-4e99-40ef-b3d2-cbb058abc000",
   "metadata": {
    "execution": {
     "iopub.execute_input": "2022-05-25T13:21:45.559180Z",
     "iopub.status.busy": "2022-05-25T13:21:45.558666Z",
     "iopub.status.idle": "2022-05-25T13:21:45.574002Z",
     "shell.execute_reply": "2022-05-25T13:21:45.573373Z",
     "shell.execute_reply.started": "2022-05-25T13:21:45.559131Z"
    },
    "tags": []
   },
   "outputs": [
    {
     "data": {
      "text/plain": [
       "FAKE    3164\n",
       "Name: label, dtype: int64"
      ]
     },
     "execution_count": 6,
     "metadata": {},
     "output_type": "execute_result"
    }
   ],
   "source": [
    "# Creating fake_news dataset \n",
    "fake_news = data[data['label'] == \"FAKE\"]\n",
    "# resetting index\n",
    "fake_news = fake_news.reset_index()\n",
    "# Checking dataset \n",
    "fake_news[\"label\"].value_counts()"
   ]
  },
  {
   "cell_type": "code",
   "execution_count": 7,
   "id": "e75af180-9a20-4e3a-8c01-c71fd9035b05",
   "metadata": {
    "execution": {
     "iopub.execute_input": "2022-05-25T13:21:47.881632Z",
     "iopub.status.busy": "2022-05-25T13:21:47.881025Z",
     "iopub.status.idle": "2022-05-25T13:21:47.891109Z",
     "shell.execute_reply": "2022-05-25T13:21:47.890090Z",
     "shell.execute_reply.started": "2022-05-25T13:21:47.881581Z"
    },
    "tags": []
   },
   "outputs": [
    {
     "data": {
      "text/plain": [
       "{'neg': 0.0, 'neu': 0.762, 'pos': 0.238, 'compound': 0.3612}"
      ]
     },
     "execution_count": 7,
     "metadata": {},
     "output_type": "execute_result"
    }
   ],
   "source": [
    "# Sentimnet analysis (with VADER)\n",
    "text_example = real_news[\"title\"][0]\n",
    "analyzer.polarity_scores(text_example)"
   ]
  },
  {
   "cell_type": "markdown",
   "id": "dc9e38b2-0c5f-4e64-927f-64fa557dfd84",
   "metadata": {
    "execution": {
     "iopub.execute_input": "2022-03-11T13:00:40.850995Z",
     "iopub.status.busy": "2022-03-11T13:00:40.850451Z",
     "iopub.status.idle": "2022-03-11T13:00:40.890334Z",
     "shell.execute_reply": "2022-03-11T13:00:40.889426Z",
     "shell.execute_reply.started": "2022-03-11T13:00:40.850960Z"
    },
    "tags": []
   },
   "source": [
    "### Real News"
   ]
  },
  {
   "cell_type": "markdown",
   "id": "e7ee6a06-b925-4402-9dbc-806c9edd81c4",
   "metadata": {
    "execution": {
     "iopub.execute_input": "2022-05-25T13:25:09.120118Z",
     "iopub.status.busy": "2022-05-25T13:25:09.119569Z",
     "iopub.status.idle": "2022-05-25T13:25:09.513044Z",
     "shell.execute_reply": "2022-05-25T13:25:09.512182Z",
     "shell.execute_reply.started": "2022-05-25T13:25:09.120075Z"
    }
   },
   "source": [
    "Vader"
   ]
  },
  {
   "cell_type": "code",
   "execution_count": 11,
   "id": "ca9b3f29-a867-48da-8cac-814ba7b3b883",
   "metadata": {
    "execution": {
     "iopub.execute_input": "2022-05-25T13:23:38.910099Z",
     "iopub.status.busy": "2022-05-25T13:23:38.909556Z",
     "iopub.status.idle": "2022-05-25T13:23:38.925444Z",
     "shell.execute_reply": "2022-05-25T13:23:38.924809Z",
     "shell.execute_reply.started": "2022-05-25T13:23:38.910047Z"
    }
   },
   "outputs": [
    {
     "data": {
      "text/html": [
       "<div>\n",
       "<style scoped>\n",
       "    .dataframe tbody tr th:only-of-type {\n",
       "        vertical-align: middle;\n",
       "    }\n",
       "\n",
       "    .dataframe tbody tr th {\n",
       "        vertical-align: top;\n",
       "    }\n",
       "\n",
       "    .dataframe thead th {\n",
       "        text-align: right;\n",
       "    }\n",
       "</style>\n",
       "<table border=\"1\" class=\"dataframe\">\n",
       "  <thead>\n",
       "    <tr style=\"text-align: right;\">\n",
       "      <th></th>\n",
       "      <th>index</th>\n",
       "      <th>Unnamed: 0</th>\n",
       "      <th>title</th>\n",
       "      <th>text</th>\n",
       "      <th>label</th>\n",
       "    </tr>\n",
       "  </thead>\n",
       "  <tbody>\n",
       "    <tr>\n",
       "      <th>0</th>\n",
       "      <td>2</td>\n",
       "      <td>3608</td>\n",
       "      <td>Kerry to go to Paris in gesture of sympathy</td>\n",
       "      <td>U.S. Secretary of State John F. Kerry said Mon...</td>\n",
       "      <td>REAL</td>\n",
       "    </tr>\n",
       "    <tr>\n",
       "      <th>1</th>\n",
       "      <td>4</td>\n",
       "      <td>875</td>\n",
       "      <td>The Battle of New York: Why This Primary Matters</td>\n",
       "      <td>It's primary day in New York and front-runners...</td>\n",
       "      <td>REAL</td>\n",
       "    </tr>\n",
       "    <tr>\n",
       "      <th>2</th>\n",
       "      <td>7</td>\n",
       "      <td>95</td>\n",
       "      <td>‘Britain’s Schindler’ Dies at 106</td>\n",
       "      <td>A Czech stockbroker who saved more than 650 Je...</td>\n",
       "      <td>REAL</td>\n",
       "    </tr>\n",
       "    <tr>\n",
       "      <th>3</th>\n",
       "      <td>8</td>\n",
       "      <td>4869</td>\n",
       "      <td>Fact check: Trump and Clinton at the 'commande...</td>\n",
       "      <td>Hillary Clinton and Donald Trump made some ina...</td>\n",
       "      <td>REAL</td>\n",
       "    </tr>\n",
       "    <tr>\n",
       "      <th>4</th>\n",
       "      <td>9</td>\n",
       "      <td>2909</td>\n",
       "      <td>Iran reportedly makes new push for uranium con...</td>\n",
       "      <td>Iranian negotiators reportedly have made a las...</td>\n",
       "      <td>REAL</td>\n",
       "    </tr>\n",
       "  </tbody>\n",
       "</table>\n",
       "</div>"
      ],
      "text/plain": [
       "   index  Unnamed: 0                                              title  \\\n",
       "0      2        3608        Kerry to go to Paris in gesture of sympathy   \n",
       "1      4         875   The Battle of New York: Why This Primary Matters   \n",
       "2      7          95                  ‘Britain’s Schindler’ Dies at 106   \n",
       "3      8        4869  Fact check: Trump and Clinton at the 'commande...   \n",
       "4      9        2909  Iran reportedly makes new push for uranium con...   \n",
       "\n",
       "                                                text label  \n",
       "0  U.S. Secretary of State John F. Kerry said Mon...  REAL  \n",
       "1  It's primary day in New York and front-runners...  REAL  \n",
       "2  A Czech stockbroker who saved more than 650 Je...  REAL  \n",
       "3  Hillary Clinton and Donald Trump made some ina...  REAL  \n",
       "4  Iranian negotiators reportedly have made a las...  REAL  "
      ]
     },
     "execution_count": 11,
     "metadata": {},
     "output_type": "execute_result"
    }
   ],
   "source": [
    "real_news.head()"
   ]
  },
  {
   "cell_type": "code",
   "execution_count": 57,
   "id": "69924530-7b1b-4384-8acd-8d8075ce4b4a",
   "metadata": {
    "execution": {
     "iopub.execute_input": "2022-05-25T14:13:10.654302Z",
     "iopub.status.busy": "2022-05-25T14:13:10.653793Z",
     "iopub.status.idle": "2022-05-25T14:13:29.602362Z",
     "shell.execute_reply": "2022-05-25T14:13:29.601695Z",
     "shell.execute_reply.started": "2022-05-25T14:13:10.654251Z"
    },
    "tags": []
   },
   "outputs": [
    {
     "name": "stderr",
     "output_type": "stream",
     "text": [
      "3171it [00:18, 167.48it/s]\n"
     ]
    }
   ],
   "source": [
    "# Iterating through the real news\n",
    "real_data = []\n",
    "\n",
    "# for-loop\n",
    "for headline, ID in tqdm(zip(real_news[\"title\"], real_news[\"Unnamed: 0\"])):\n",
    "    sentiment = analyzer.polarity_scores(headline)\n",
    "    # Create a doc\n",
    "    doc = nlp(headline)\n",
    "    for entity in doc.ents:\n",
    "        if entity.label_ == \"GPE\":\n",
    "            real_data.append((ID, sentiment[\"neg\"], sentiment[\"neu\"], sentiment[\"pos\"], sentiment[\"compound\"], entity.text))"
   ]
  },
  {
   "cell_type": "code",
   "execution_count": 58,
   "id": "80f339f6-85ee-4e05-9428-dd54c536902b",
   "metadata": {
    "execution": {
     "iopub.execute_input": "2022-05-25T14:14:04.842499Z",
     "iopub.status.busy": "2022-05-25T14:14:04.841892Z",
     "iopub.status.idle": "2022-05-25T14:14:04.849261Z",
     "shell.execute_reply": "2022-05-25T14:14:04.848250Z",
     "shell.execute_reply.started": "2022-05-25T14:14:04.842447Z"
    },
    "tags": []
   },
   "outputs": [
    {
     "name": "stdout",
     "output_type": "stream",
     "text": [
      "[(3608, 0.0, 0.762, 0.238, 0.3612, 'Paris'), (95, 0.0, 1.0, 0.0, 0.0, 'Britain'), (2909, 0.0, 1.0, 0.0, 0.0, 'Iran'), (1357, 0.13, 0.87, 0.0, -0.34, 'Iowa'), (3304, 0.209, 0.791, 0.0, -0.2755, 'Iran'), (3078, 0.0, 1.0, 0.0, 0.0, 'America'), (755, 0.0, 1.0, 0.0, 0.0, 'W. Va.'), (2777, 0.13, 0.87, 0.0, -0.128, 'Afghanistan'), (3648, 0.141, 0.759, 0.1, -0.1546, 'Orlando'), (1178, 0.336, 0.664, 0.0, -0.7964, 'South Carolina')]\n"
     ]
    }
   ],
   "source": [
    "# Checking the data \n",
    "print(real_data[0:10])"
   ]
  },
  {
   "cell_type": "code",
   "execution_count": 59,
   "id": "7ce568a7-9f15-4ab3-9055-c8ecd05fff42",
   "metadata": {
    "execution": {
     "iopub.execute_input": "2022-05-25T14:14:05.689456Z",
     "iopub.status.busy": "2022-05-25T14:14:05.689146Z",
     "iopub.status.idle": "2022-05-25T14:14:05.696643Z",
     "shell.execute_reply": "2022-05-25T14:14:05.696008Z",
     "shell.execute_reply.started": "2022-05-25T14:14:05.689425Z"
    },
    "tags": []
   },
   "outputs": [],
   "source": [
    "# Creating dataframe \n",
    "real_df = pd.DataFrame(real_data, columns = [\"ID\", \"neg\", \"neu\", \"pos\", \"compound\", \"GPE\"])"
   ]
  },
  {
   "cell_type": "code",
   "execution_count": 60,
   "id": "c09e7e87-533e-44c3-8a6c-750e44ae53f6",
   "metadata": {
    "execution": {
     "iopub.execute_input": "2022-05-25T14:14:07.612572Z",
     "iopub.status.busy": "2022-05-25T14:14:07.611946Z",
     "iopub.status.idle": "2022-05-25T14:14:07.629299Z",
     "shell.execute_reply": "2022-05-25T14:14:07.628651Z",
     "shell.execute_reply.started": "2022-05-25T14:14:07.612521Z"
    },
    "tags": []
   },
   "outputs": [
    {
     "data": {
      "text/html": [
       "<div>\n",
       "<style scoped>\n",
       "    .dataframe tbody tr th:only-of-type {\n",
       "        vertical-align: middle;\n",
       "    }\n",
       "\n",
       "    .dataframe tbody tr th {\n",
       "        vertical-align: top;\n",
       "    }\n",
       "\n",
       "    .dataframe thead th {\n",
       "        text-align: right;\n",
       "    }\n",
       "</style>\n",
       "<table border=\"1\" class=\"dataframe\">\n",
       "  <thead>\n",
       "    <tr style=\"text-align: right;\">\n",
       "      <th></th>\n",
       "      <th>ID</th>\n",
       "      <th>neg</th>\n",
       "      <th>neu</th>\n",
       "      <th>pos</th>\n",
       "      <th>compound</th>\n",
       "      <th>GPE</th>\n",
       "    </tr>\n",
       "  </thead>\n",
       "  <tbody>\n",
       "    <tr>\n",
       "      <th>0</th>\n",
       "      <td>3608</td>\n",
       "      <td>0.000</td>\n",
       "      <td>0.762</td>\n",
       "      <td>0.238</td>\n",
       "      <td>0.3612</td>\n",
       "      <td>Paris</td>\n",
       "    </tr>\n",
       "    <tr>\n",
       "      <th>1</th>\n",
       "      <td>95</td>\n",
       "      <td>0.000</td>\n",
       "      <td>1.000</td>\n",
       "      <td>0.000</td>\n",
       "      <td>0.0000</td>\n",
       "      <td>Britain</td>\n",
       "    </tr>\n",
       "    <tr>\n",
       "      <th>2</th>\n",
       "      <td>2909</td>\n",
       "      <td>0.000</td>\n",
       "      <td>1.000</td>\n",
       "      <td>0.000</td>\n",
       "      <td>0.0000</td>\n",
       "      <td>Iran</td>\n",
       "    </tr>\n",
       "    <tr>\n",
       "      <th>3</th>\n",
       "      <td>1357</td>\n",
       "      <td>0.130</td>\n",
       "      <td>0.870</td>\n",
       "      <td>0.000</td>\n",
       "      <td>-0.3400</td>\n",
       "      <td>Iowa</td>\n",
       "    </tr>\n",
       "    <tr>\n",
       "      <th>4</th>\n",
       "      <td>3304</td>\n",
       "      <td>0.209</td>\n",
       "      <td>0.791</td>\n",
       "      <td>0.000</td>\n",
       "      <td>-0.2755</td>\n",
       "      <td>Iran</td>\n",
       "    </tr>\n",
       "  </tbody>\n",
       "</table>\n",
       "</div>"
      ],
      "text/plain": [
       "     ID    neg    neu    pos  compound      GPE\n",
       "0  3608  0.000  0.762  0.238    0.3612    Paris\n",
       "1    95  0.000  1.000  0.000    0.0000  Britain\n",
       "2  2909  0.000  1.000  0.000    0.0000     Iran\n",
       "3  1357  0.130  0.870  0.000   -0.3400     Iowa\n",
       "4  3304  0.209  0.791  0.000   -0.2755     Iran"
      ]
     },
     "execution_count": 60,
     "metadata": {},
     "output_type": "execute_result"
    }
   ],
   "source": [
    "# Checking the dataframe \n",
    "real_df.head()"
   ]
  },
  {
   "cell_type": "code",
   "execution_count": 25,
   "id": "37de2369-47ad-42ca-905f-68fb95f6c160",
   "metadata": {
    "execution": {
     "iopub.execute_input": "2022-05-25T13:39:02.613827Z",
     "iopub.status.busy": "2022-05-25T13:39:02.613335Z",
     "iopub.status.idle": "2022-05-25T13:39:02.652139Z",
     "shell.execute_reply": "2022-05-25T13:39:02.651110Z",
     "shell.execute_reply.started": "2022-05-25T13:39:02.613775Z"
    },
    "tags": []
   },
   "outputs": [],
   "source": [
    "# Saving the dataframe\n",
    "outpath_real = os.path.join(\"output\", \"real_news_df.csv\")\n",
    "real_df.to_csv(outpath_real, index=False)"
   ]
  },
  {
   "cell_type": "markdown",
   "id": "280c3d6d-a300-480c-ba19-7e68bd737946",
   "metadata": {
    "execution": {
     "iopub.execute_input": "2022-05-25T13:25:30.739129Z",
     "iopub.status.busy": "2022-05-25T13:25:30.738475Z",
     "iopub.status.idle": "2022-05-25T13:25:30.746306Z",
     "shell.execute_reply": "2022-05-25T13:25:30.745003Z",
     "shell.execute_reply.started": "2022-05-25T13:25:30.739076Z"
    }
   },
   "source": [
    "Spacy text blob "
   ]
  },
  {
   "cell_type": "code",
   "execution_count": 119,
   "id": "96107291-b57f-4f12-8b90-7a173ba3b684",
   "metadata": {
    "execution": {
     "iopub.execute_input": "2022-05-25T14:57:27.674202Z",
     "iopub.status.busy": "2022-05-25T14:57:27.673696Z",
     "iopub.status.idle": "2022-05-25T14:57:33.408057Z",
     "shell.execute_reply": "2022-05-25T14:57:33.407395Z",
     "shell.execute_reply.started": "2022-05-25T14:57:27.674154Z"
    },
    "tags": []
   },
   "outputs": [
    {
     "name": "stderr",
     "output_type": "stream",
     "text": [
      "3171it [00:05, 554.25it/s]\n"
     ]
    }
   ],
   "source": [
    "# Iterating through the real news\n",
    "real_data = []\n",
    "\n",
    "# for-loop\n",
    "for doc, ID in tqdm(zip(nlp.pipe(real_news[\"title\"], batch_size=500), real_news[\"Unnamed: 0\"])):\n",
    "    for entity in doc.ents:\n",
    "        if entity.label_ == \"GPE\":\n",
    "            real_data.append((ID, doc._.blob.polarity, doc._.blob.subjectivity, entity.text))"
   ]
  },
  {
   "cell_type": "code",
   "execution_count": 120,
   "id": "84ec4155-f0ea-47fa-8053-5e785cb5ce69",
   "metadata": {
    "execution": {
     "iopub.execute_input": "2022-05-25T14:57:34.271080Z",
     "iopub.status.busy": "2022-05-25T14:57:34.270455Z",
     "iopub.status.idle": "2022-05-25T14:57:34.277470Z",
     "shell.execute_reply": "2022-05-25T14:57:34.276466Z",
     "shell.execute_reply.started": "2022-05-25T14:57:34.271029Z"
    },
    "tags": []
   },
   "outputs": [
    {
     "name": "stdout",
     "output_type": "stream",
     "text": [
      "[(3608, 0.0, 0.0, 'Paris'), (95, 0.0, 0.0, 'Britain'), (2909, 0.13636363636363635, 0.45454545454545453, 'Iran'), (1357, 0.0, 0.0, 'Iowa'), (3304, 0.0, 0.0, 'Iran'), (3078, 0.0, 0.0, 'America'), (755, 0.0, 0.0, 'W. Va.'), (2777, -0.0515873015873016, 0.6845238095238095, 'Afghanistan'), (3648, 0.0, 0.0, 'Orlando'), (1178, -0.13333333333333333, 0.26666666666666666, 'South Carolina')]\n"
     ]
    }
   ],
   "source": [
    "# Checking the data \n",
    "print(real_data[0:10])"
   ]
  },
  {
   "cell_type": "code",
   "execution_count": 136,
   "id": "e03e4feb-0a0b-4686-bbde-5ff4684d9c25",
   "metadata": {
    "execution": {
     "iopub.execute_input": "2022-05-25T15:01:20.583020Z",
     "iopub.status.busy": "2022-05-25T15:01:20.582409Z",
     "iopub.status.idle": "2022-05-25T15:01:20.591796Z",
     "shell.execute_reply": "2022-05-25T15:01:20.590820Z",
     "shell.execute_reply.started": "2022-05-25T15:01:20.582959Z"
    },
    "tags": []
   },
   "outputs": [],
   "source": [
    "# Creating dataframe \n",
    "real_df = pd.DataFrame(real_data, columns = [\"ID\", \"polarity\", \"subjectivity\", \"GPE\"])"
   ]
  },
  {
   "cell_type": "code",
   "execution_count": 137,
   "id": "0306df45-5451-4461-8e21-520a6a478672",
   "metadata": {
    "execution": {
     "iopub.execute_input": "2022-05-25T15:01:21.444140Z",
     "iopub.status.busy": "2022-05-25T15:01:21.443516Z",
     "iopub.status.idle": "2022-05-25T15:01:21.459680Z",
     "shell.execute_reply": "2022-05-25T15:01:21.459098Z",
     "shell.execute_reply.started": "2022-05-25T15:01:21.444090Z"
    },
    "tags": []
   },
   "outputs": [
    {
     "data": {
      "text/html": [
       "<div>\n",
       "<style scoped>\n",
       "    .dataframe tbody tr th:only-of-type {\n",
       "        vertical-align: middle;\n",
       "    }\n",
       "\n",
       "    .dataframe tbody tr th {\n",
       "        vertical-align: top;\n",
       "    }\n",
       "\n",
       "    .dataframe thead th {\n",
       "        text-align: right;\n",
       "    }\n",
       "</style>\n",
       "<table border=\"1\" class=\"dataframe\">\n",
       "  <thead>\n",
       "    <tr style=\"text-align: right;\">\n",
       "      <th></th>\n",
       "      <th>ID</th>\n",
       "      <th>polarity</th>\n",
       "      <th>subjectivity</th>\n",
       "      <th>GPE</th>\n",
       "    </tr>\n",
       "  </thead>\n",
       "  <tbody>\n",
       "    <tr>\n",
       "      <th>0</th>\n",
       "      <td>3608</td>\n",
       "      <td>0.000000</td>\n",
       "      <td>0.000000</td>\n",
       "      <td>Paris</td>\n",
       "    </tr>\n",
       "    <tr>\n",
       "      <th>1</th>\n",
       "      <td>95</td>\n",
       "      <td>0.000000</td>\n",
       "      <td>0.000000</td>\n",
       "      <td>Britain</td>\n",
       "    </tr>\n",
       "    <tr>\n",
       "      <th>2</th>\n",
       "      <td>2909</td>\n",
       "      <td>0.136364</td>\n",
       "      <td>0.454545</td>\n",
       "      <td>Iran</td>\n",
       "    </tr>\n",
       "    <tr>\n",
       "      <th>3</th>\n",
       "      <td>1357</td>\n",
       "      <td>0.000000</td>\n",
       "      <td>0.000000</td>\n",
       "      <td>Iowa</td>\n",
       "    </tr>\n",
       "    <tr>\n",
       "      <th>4</th>\n",
       "      <td>3304</td>\n",
       "      <td>0.000000</td>\n",
       "      <td>0.000000</td>\n",
       "      <td>Iran</td>\n",
       "    </tr>\n",
       "  </tbody>\n",
       "</table>\n",
       "</div>"
      ],
      "text/plain": [
       "     ID  polarity  subjectivity      GPE\n",
       "0  3608  0.000000      0.000000    Paris\n",
       "1    95  0.000000      0.000000  Britain\n",
       "2  2909  0.136364      0.454545     Iran\n",
       "3  1357  0.000000      0.000000     Iowa\n",
       "4  3304  0.000000      0.000000     Iran"
      ]
     },
     "execution_count": 137,
     "metadata": {},
     "output_type": "execute_result"
    }
   ],
   "source": [
    "# Checking the dataframe \n",
    "real_df.head()"
   ]
  },
  {
   "cell_type": "code",
   "execution_count": 33,
   "id": "39705978-9f5a-4274-90e7-22b748e30e91",
   "metadata": {
    "execution": {
     "iopub.execute_input": "2022-05-25T13:45:53.073393Z",
     "iopub.status.busy": "2022-05-25T13:45:53.072871Z",
     "iopub.status.idle": "2022-05-25T13:45:53.085946Z",
     "shell.execute_reply": "2022-05-25T13:45:53.085069Z",
     "shell.execute_reply.started": "2022-05-25T13:45:53.073339Z"
    }
   },
   "outputs": [],
   "source": [
    "# Saving the dataframe\n",
    "outpath_real = os.path.join(\"output\", \"real_newsblob_df.csv\")\n",
    "real_df.to_csv(outpath_real, index=False)"
   ]
  },
  {
   "cell_type": "markdown",
   "id": "7da5d437-ebd6-4c3b-b9bc-dd3e2d6367f9",
   "metadata": {
    "execution": {
     "iopub.execute_input": "2022-05-25T13:46:30.279036Z",
     "iopub.status.busy": "2022-05-25T13:46:30.278415Z",
     "iopub.status.idle": "2022-05-25T13:46:30.297505Z",
     "shell.execute_reply": "2022-05-25T13:46:30.296664Z",
     "shell.execute_reply.started": "2022-05-25T13:46:30.278962Z"
    }
   },
   "source": [
    "Plotting"
   ]
  },
  {
   "cell_type": "code",
   "execution_count": 35,
   "id": "8beef236-9d7e-4736-b517-e1695e37cca4",
   "metadata": {
    "execution": {
     "iopub.execute_input": "2022-05-25T13:46:44.949426Z",
     "iopub.status.busy": "2022-05-25T13:46:44.948833Z",
     "iopub.status.idle": "2022-05-25T13:46:44.958830Z",
     "shell.execute_reply": "2022-05-25T13:46:44.958067Z",
     "shell.execute_reply.started": "2022-05-25T13:46:44.949372Z"
    }
   },
   "outputs": [],
   "source": [
    "# Finding the 20 most common entities\n",
    "values = real_df[\"GPE\"].value_counts().values.tolist()[0:20]\n",
    "gpes = real_df[\"GPE\"].value_counts().index.tolist()[0:20]"
   ]
  },
  {
   "cell_type": "code",
   "execution_count": null,
   "id": "1d671ac6-9a7e-4c6a-a534-02c3fde0e78c",
   "metadata": {},
   "outputs": [],
   "source": []
  },
  {
   "cell_type": "markdown",
   "id": "7ef18a1a-88a1-4600-9822-effb7f10a309",
   "metadata": {},
   "source": [
    "### Fake News"
   ]
  },
  {
   "cell_type": "code",
   "execution_count": 13,
   "id": "9cdfe1e5-ca1b-4fc3-8199-ce5fd8863bc1",
   "metadata": {
    "execution": {
     "iopub.execute_input": "2022-03-15T17:27:52.738511Z",
     "iopub.status.busy": "2022-03-15T17:27:52.737997Z",
     "iopub.status.idle": "2022-03-15T17:27:58.313067Z",
     "shell.execute_reply": "2022-03-15T17:27:58.312508Z",
     "shell.execute_reply.started": "2022-03-15T17:27:52.738457Z"
    },
    "tags": []
   },
   "outputs": [
    {
     "name": "stderr",
     "output_type": "stream",
     "text": [
      "3164it [00:05, 569.25it/s]\n"
     ]
    }
   ],
   "source": [
    "# Iterating through the fake news\n",
    "fake_data = []\n",
    "\n",
    "# For-loop\n",
    "for headline, ID in tqdm(zip(nlp.pipe(fake_news[\"title\"], batch_size=500), fake_news[\"Unnamed: 0\"])):\n",
    "    sentiment = analyzer.polarity_scores(text_example)\n",
    "    for entity in headline.ents:\n",
    "        if entity.label_ == \"GPE\":\n",
    "            fake_data.append((ID, sentiment[\"neg\"], sentiment[\"neu\"], sentiment[\"pos\"], sentiment[\"compound\"], entity.text))"
   ]
  },
  {
   "cell_type": "code",
   "execution_count": 14,
   "id": "80a068e6-12f5-42c6-b23a-8fdb6c427d0e",
   "metadata": {
    "execution": {
     "iopub.execute_input": "2022-03-15T17:28:10.925759Z",
     "iopub.status.busy": "2022-03-15T17:28:10.925221Z",
     "iopub.status.idle": "2022-03-15T17:28:10.934035Z",
     "shell.execute_reply": "2022-03-15T17:28:10.932946Z",
     "shell.execute_reply.started": "2022-03-15T17:28:10.925708Z"
    },
    "tags": []
   },
   "outputs": [
    {
     "name": "stdout",
     "output_type": "stream",
     "text": [
      "[(6903, 0.0, 0.762, 0.238, 0.3612, 'Tehran'), (6903, 0.0, 0.762, 0.238, 0.3612, 'USA'), (7385, 0.0, 0.762, 0.238, 0.3612, 'UK'), (7385, 0.0, 0.762, 0.238, 0.3612, 'Russia'), (9016, 0.0, 0.762, 0.238, 0.3612, 'Empire'), (7540, 0.0, 0.762, 0.238, 0.3612, 'Detroit'), (7049, 0.0, 0.762, 0.238, 0.3612, 'US'), (6763, 0.0, 0.762, 0.238, 0.3612, 'Russia'), (6763, 0.0, 0.762, 0.238, 0.3612, 'USA'), (9398, 0.0, 0.762, 0.238, 0.3612, 'Russia')]\n"
     ]
    }
   ],
   "source": [
    "# Checking the data\n",
    "print(fake_data[0:10])"
   ]
  },
  {
   "cell_type": "code",
   "execution_count": 15,
   "id": "9f546188-a9cb-48af-9e7b-a994a887bb55",
   "metadata": {
    "execution": {
     "iopub.execute_input": "2022-03-15T17:29:33.671472Z",
     "iopub.status.busy": "2022-03-15T17:29:33.670945Z",
     "iopub.status.idle": "2022-03-15T17:29:33.682082Z",
     "shell.execute_reply": "2022-03-15T17:29:33.681086Z",
     "shell.execute_reply.started": "2022-03-15T17:29:33.671421Z"
    },
    "tags": []
   },
   "outputs": [],
   "source": [
    "# Creating dataframe \n",
    "fake_df = pd.DataFrame(fake_data, columns = [\"ID\", \"neg\", \"neu\", \"pos\", \"compound\", \"GPE\"])"
   ]
  },
  {
   "cell_type": "code",
   "execution_count": 16,
   "id": "e1a9f62b-bc66-444c-8cda-6af3cbaad6ae",
   "metadata": {
    "execution": {
     "iopub.execute_input": "2022-03-15T17:29:34.760586Z",
     "iopub.status.busy": "2022-03-15T17:29:34.759952Z",
     "iopub.status.idle": "2022-03-15T17:29:34.998800Z",
     "shell.execute_reply": "2022-03-15T17:29:34.997746Z",
     "shell.execute_reply.started": "2022-03-15T17:29:34.760535Z"
    },
    "tags": []
   },
   "outputs": [],
   "source": [
    "# Saving the dataframe\n",
    "outpath_fake = os.path.join(\"output\", \"fake_news_df.csv\")\n",
    "fake_df.to_csv(outpath_fake, index=False)"
   ]
  },
  {
   "cell_type": "markdown",
   "id": "24d8e1f5-a3e8-4163-bf26-6e2cf7d86dff",
   "metadata": {},
   "source": [
    "### Plotting "
   ]
  },
  {
   "cell_type": "markdown",
   "id": "a67f4b7e-eb55-471d-ae85-86a678901be0",
   "metadata": {},
   "source": [
    "Real News"
   ]
  },
  {
   "cell_type": "code",
   "execution_count": 36,
   "id": "b6e78420-3070-47ee-af0e-607357fee99a",
   "metadata": {
    "execution": {
     "iopub.execute_input": "2022-05-25T13:48:36.574637Z",
     "iopub.status.busy": "2022-05-25T13:48:36.574149Z",
     "iopub.status.idle": "2022-05-25T13:48:36.585182Z",
     "shell.execute_reply": "2022-05-25T13:48:36.584096Z",
     "shell.execute_reply.started": "2022-05-25T13:48:36.574586Z"
    },
    "tags": []
   },
   "outputs": [],
   "source": [
    "# Finding the 20 most common entities\n",
    "values = real_df[\"GPE\"].value_counts().values.tolist()[0:20]\n",
    "gpes = real_df[\"GPE\"].value_counts().index.tolist()[0:20]"
   ]
  },
  {
   "cell_type": "code",
   "execution_count": 18,
   "id": "57ee90c0-8590-4222-aa22-f6d108b3936e",
   "metadata": {
    "execution": {
     "iopub.execute_input": "2022-03-15T17:29:45.656494Z",
     "iopub.status.busy": "2022-03-15T17:29:45.656010Z",
     "iopub.status.idle": "2022-03-15T17:29:45.663996Z",
     "shell.execute_reply": "2022-03-15T17:29:45.662943Z",
     "shell.execute_reply.started": "2022-03-15T17:29:45.656444Z"
    },
    "tags": []
   },
   "outputs": [
    {
     "name": "stdout",
     "output_type": "stream",
     "text": [
      "[129, 94, 60, 49, 42, 42, 29, 23, 22, 20]\n",
      "['Obama', 'Iran', 'US', 'America', 'U.S.', 'Iowa', 'Syria', 'Russia', 'Paris', 'New Hampshire']\n"
     ]
    }
   ],
   "source": [
    "print(values)\n",
    "print(gpes)"
   ]
  },
  {
   "cell_type": "code",
   "execution_count": 54,
   "id": "1ce2b83f-10e6-4be7-8ceb-f18775f7a044",
   "metadata": {
    "execution": {
     "iopub.execute_input": "2022-05-25T14:08:49.634857Z",
     "iopub.status.busy": "2022-05-25T14:08:49.634475Z",
     "iopub.status.idle": "2022-05-25T14:08:49.911349Z",
     "shell.execute_reply": "2022-05-25T14:08:49.910816Z",
     "shell.execute_reply.started": "2022-05-25T14:08:49.634833Z"
    },
    "tags": []
   },
   "outputs": [
    {
     "data": {
      "image/png": "[encoded data removed]",
      "text/plain": [
       "<Figure size 720x360 with 1 Axes>"
      ]
     },
     "metadata": {
      "needs_background": "light"
     },
     "output_type": "display_data"
    }
   ],
   "source": [
    "# Creating figure\n",
    "fig, ax = plt.subplots()\n",
    "fig.set_size_inches(10, 5)\n",
    "plt.title('Real News: Most common GPEs')\n",
    "plt.xlabel('GPEs', fontsize = 12)\n",
    "plt.ylabel('Occurances', fontsize = 12)\n",
    "plt.xticks(rotation = 60, fontsize = 9)\n",
    "ax.bar(gpes, values)\n",
    "\n",
    "# Save figure\n",
    "plt.savefig(os.path.join(\"output\", \"occurances_img.png\"))"
   ]
  },
  {
   "cell_type": "code",
   "execution_count": 77,
   "id": "cdb9abda-a5da-413a-8002-1ff080863ed9",
   "metadata": {
    "execution": {
     "iopub.execute_input": "2022-05-25T14:21:40.419969Z",
     "iopub.status.busy": "2022-05-25T14:21:40.419482Z",
     "iopub.status.idle": "2022-05-25T14:21:40.428149Z",
     "shell.execute_reply": "2022-05-25T14:21:40.427107Z",
     "shell.execute_reply.started": "2022-05-25T14:21:40.419921Z"
    },
    "tags": []
   },
   "outputs": [],
   "source": [
    "# This is perhaps what He actually wanted\n",
    "gpes = real_df[\"GPE\"].value_counts().index.tolist()[0:20]"
   ]
  },
  {
   "cell_type": "code",
   "execution_count": 85,
   "id": "b937d4cc-472d-4e8f-9098-a61686793ce7",
   "metadata": {
    "execution": {
     "iopub.execute_input": "2022-05-25T14:23:15.700589Z",
     "iopub.status.busy": "2022-05-25T14:23:15.699962Z",
     "iopub.status.idle": "2022-05-25T14:23:15.713164Z",
     "shell.execute_reply": "2022-05-25T14:23:15.712128Z",
     "shell.execute_reply.started": "2022-05-25T14:23:15.700538Z"
    },
    "tags": []
   },
   "outputs": [],
   "source": [
    "mean_df = real_df.groupby([\"GPE\"]).mean().reset_index()"
   ]
  },
  {
   "cell_type": "code",
   "execution_count": 86,
   "id": "20928d28-d628-413e-a45e-3ce931daa7cf",
   "metadata": {
    "execution": {
     "iopub.execute_input": "2022-05-25T14:23:16.302245Z",
     "iopub.status.busy": "2022-05-25T14:23:16.301733Z",
     "iopub.status.idle": "2022-05-25T14:23:16.319403Z",
     "shell.execute_reply": "2022-05-25T14:23:16.318724Z",
     "shell.execute_reply.started": "2022-05-25T14:23:16.302197Z"
    },
    "tags": []
   },
   "outputs": [
    {
     "data": {
      "text/html": [
       "<div>\n",
       "<style scoped>\n",
       "    .dataframe tbody tr th:only-of-type {\n",
       "        vertical-align: middle;\n",
       "    }\n",
       "\n",
       "    .dataframe tbody tr th {\n",
       "        vertical-align: top;\n",
       "    }\n",
       "\n",
       "    .dataframe thead th {\n",
       "        text-align: right;\n",
       "    }\n",
       "</style>\n",
       "<table border=\"1\" class=\"dataframe\">\n",
       "  <thead>\n",
       "    <tr style=\"text-align: right;\">\n",
       "      <th></th>\n",
       "      <th>GPE</th>\n",
       "      <th>ID</th>\n",
       "      <th>neg</th>\n",
       "      <th>neu</th>\n",
       "      <th>pos</th>\n",
       "      <th>compound</th>\n",
       "    </tr>\n",
       "  </thead>\n",
       "  <tbody>\n",
       "    <tr>\n",
       "      <th>0</th>\n",
       "      <td>Afghanistan</td>\n",
       "      <td>3018.625000</td>\n",
       "      <td>0.099000</td>\n",
       "      <td>0.901000</td>\n",
       "      <td>0.000000</td>\n",
       "      <td>-0.165975</td>\n",
       "    </tr>\n",
       "    <tr>\n",
       "      <th>1</th>\n",
       "      <td>Al-Abadi</td>\n",
       "      <td>2881.000000</td>\n",
       "      <td>0.000000</td>\n",
       "      <td>0.769000</td>\n",
       "      <td>0.231000</td>\n",
       "      <td>0.401900</td>\n",
       "    </tr>\n",
       "    <tr>\n",
       "      <th>2</th>\n",
       "      <td>Alabama</td>\n",
       "      <td>2341.750000</td>\n",
       "      <td>0.090000</td>\n",
       "      <td>0.868750</td>\n",
       "      <td>0.041250</td>\n",
       "      <td>-0.032200</td>\n",
       "    </tr>\n",
       "    <tr>\n",
       "      <th>3</th>\n",
       "      <td>Alaska</td>\n",
       "      <td>1816.666667</td>\n",
       "      <td>0.128667</td>\n",
       "      <td>0.827333</td>\n",
       "      <td>0.044333</td>\n",
       "      <td>-0.158900</td>\n",
       "    </tr>\n",
       "    <tr>\n",
       "      <th>4</th>\n",
       "      <td>America</td>\n",
       "      <td>2374.895833</td>\n",
       "      <td>0.128729</td>\n",
       "      <td>0.756896</td>\n",
       "      <td>0.114354</td>\n",
       "      <td>-0.044110</td>\n",
       "    </tr>\n",
       "  </tbody>\n",
       "</table>\n",
       "</div>"
      ],
      "text/plain": [
       "           GPE           ID       neg       neu       pos  compound\n",
       "0  Afghanistan  3018.625000  0.099000  0.901000  0.000000 -0.165975\n",
       "1     Al-Abadi  2881.000000  0.000000  0.769000  0.231000  0.401900\n",
       "2      Alabama  2341.750000  0.090000  0.868750  0.041250 -0.032200\n",
       "3       Alaska  1816.666667  0.128667  0.827333  0.044333 -0.158900\n",
       "4      America  2374.895833  0.128729  0.756896  0.114354 -0.044110"
      ]
     },
     "execution_count": 86,
     "metadata": {},
     "output_type": "execute_result"
    }
   ],
   "source": [
    "mean_df.head()"
   ]
  },
  {
   "cell_type": "code",
   "execution_count": 87,
   "id": "99332d8a-6a2d-43a4-92cd-3860dc873d2d",
   "metadata": {
    "execution": {
     "iopub.execute_input": "2022-05-25T14:23:21.807041Z",
     "iopub.status.busy": "2022-05-25T14:23:21.806409Z",
     "iopub.status.idle": "2022-05-25T14:23:21.815182Z",
     "shell.execute_reply": "2022-05-25T14:23:21.814244Z",
     "shell.execute_reply.started": "2022-05-25T14:23:21.806976Z"
    },
    "tags": []
   },
   "outputs": [
    {
     "data": {
      "text/plain": [
       "Index(['GPE', 'ID', 'neg', 'neu', 'pos', 'compound'], dtype='object')"
      ]
     },
     "execution_count": 87,
     "metadata": {},
     "output_type": "execute_result"
    }
   ],
   "source": [
    "mean_df.columns"
   ]
  },
  {
   "cell_type": "code",
   "execution_count": 89,
   "id": "076bdb17-6a6f-4c08-9295-934db2c887d5",
   "metadata": {
    "execution": {
     "iopub.execute_input": "2022-05-25T14:23:41.684123Z",
     "iopub.status.busy": "2022-05-25T14:23:41.683493Z",
     "iopub.status.idle": "2022-05-25T14:23:41.691497Z",
     "shell.execute_reply": "2022-05-25T14:23:41.690496Z",
     "shell.execute_reply.started": "2022-05-25T14:23:41.684066Z"
    },
    "tags": []
   },
   "outputs": [],
   "source": [
    "sum_df = mean_df[mean_df.GPE.isin(gpes)]"
   ]
  },
  {
   "cell_type": "code",
   "execution_count": 91,
   "id": "89d2314b-1dcf-4d33-839b-8fd6e0bbd813",
   "metadata": {
    "execution": {
     "iopub.execute_input": "2022-05-25T14:23:52.400311Z",
     "iopub.status.busy": "2022-05-25T14:23:52.399795Z",
     "iopub.status.idle": "2022-05-25T14:23:52.408210Z",
     "shell.execute_reply": "2022-05-25T14:23:52.407261Z",
     "shell.execute_reply.started": "2022-05-25T14:23:52.400261Z"
    },
    "tags": []
   },
   "outputs": [
    {
     "data": {
      "text/plain": [
       "20"
      ]
     },
     "execution_count": 91,
     "metadata": {},
     "output_type": "execute_result"
    }
   ],
   "source": [
    "len(sum_df)"
   ]
  },
  {
   "cell_type": "code",
   "execution_count": 118,
   "id": "0500a128-9321-4a22-9148-d8612f25688d",
   "metadata": {
    "execution": {
     "iopub.execute_input": "2022-05-25T14:54:43.724741Z",
     "iopub.status.busy": "2022-05-25T14:54:43.724249Z",
     "iopub.status.idle": "2022-05-25T14:54:44.103612Z",
     "shell.execute_reply": "2022-05-25T14:54:44.103037Z",
     "shell.execute_reply.started": "2022-05-25T14:54:43.724693Z"
    },
    "tags": []
   },
   "outputs": [
    {
     "data": {
      "image/png": "[encoded data removed]",
      "text/plain": [
       "<Figure size 1440x360 with 1 Axes>"
      ]
     },
     "metadata": {
      "needs_background": "light"
     },
     "output_type": "display_data"
    }
   ],
   "source": [
    "r = np.arange(len(sum_df[\"GPE\"]))\n",
    "width = 0.25\n",
    "\n",
    "# Creating figure\n",
    "fig, ax = plt.subplots()\n",
    "fig.set_size_inches(20, 5)\n",
    "plt.title('Real News: VADER scores', fontsize = 15)\n",
    "\n",
    "ax.bar(r, sum_df[\"neg\"], width, label = \"Negative\")\n",
    "ax.bar(r + width, sum_df[\"neu\"], width, label = \"Neutral\")\n",
    "ax.bar(r + (width*2), sum_df[\"pos\"], width, label = \"Positive\")\n",
    "\n",
    "plt.xticks(r + width/2, sum_df[\"GPE\"], rotation = 45)\n",
    "plt.xlabel('GPEs', fontsize = 12)\n",
    "plt.ylabel('Score', fontsize = 12)\n",
    "plt.legend()\n",
    "\n",
    "\n",
    "# Save figure\n",
    "plt.savefig(os.path.join(\"output\", \"vader_img.png\"))"
   ]
  },
  {
   "cell_type": "markdown",
   "id": "a37a503d-f8f6-4c3c-b522-f3581ac1063b",
   "metadata": {},
   "source": [
    "Spacy text blob"
   ]
  },
  {
   "cell_type": "code",
   "execution_count": 123,
   "id": "5eea1b4e-e309-48c8-b37f-57a428e3d8c4",
   "metadata": {
    "execution": {
     "iopub.execute_input": "2022-05-25T14:58:07.305283Z",
     "iopub.status.busy": "2022-05-25T14:58:07.304785Z",
     "iopub.status.idle": "2022-05-25T14:58:07.313393Z",
     "shell.execute_reply": "2022-05-25T14:58:07.312515Z",
     "shell.execute_reply.started": "2022-05-25T14:58:07.305235Z"
    },
    "tags": []
   },
   "outputs": [],
   "source": [
    "# This is perhaps what He actually wanted\n",
    "gpes = real_df[\"GPE\"].value_counts().index.tolist()[0:20]"
   ]
  },
  {
   "cell_type": "code",
   "execution_count": 138,
   "id": "7f764b56-81ce-4747-9193-199b374a15f9",
   "metadata": {
    "execution": {
     "iopub.execute_input": "2022-05-25T15:01:37.564794Z",
     "iopub.status.busy": "2022-05-25T15:01:37.564190Z",
     "iopub.status.idle": "2022-05-25T15:01:37.576805Z",
     "shell.execute_reply": "2022-05-25T15:01:37.575852Z",
     "shell.execute_reply.started": "2022-05-25T15:01:37.564743Z"
    },
    "tags": []
   },
   "outputs": [],
   "source": [
    "mean_df = real_df.groupby([\"GPE\"]).mean().reset_index()"
   ]
  },
  {
   "cell_type": "code",
   "execution_count": 139,
   "id": "3a7d58f1-1d69-43a7-9e53-8f71124d90b1",
   "metadata": {
    "execution": {
     "iopub.execute_input": "2022-05-25T15:01:38.018691Z",
     "iopub.status.busy": "2022-05-25T15:01:38.018090Z",
     "iopub.status.idle": "2022-05-25T15:01:38.034543Z",
     "shell.execute_reply": "2022-05-25T15:01:38.033893Z",
     "shell.execute_reply.started": "2022-05-25T15:01:38.018642Z"
    },
    "tags": []
   },
   "outputs": [
    {
     "data": {
      "text/html": [
       "<div>\n",
       "<style scoped>\n",
       "    .dataframe tbody tr th:only-of-type {\n",
       "        vertical-align: middle;\n",
       "    }\n",
       "\n",
       "    .dataframe tbody tr th {\n",
       "        vertical-align: top;\n",
       "    }\n",
       "\n",
       "    .dataframe thead th {\n",
       "        text-align: right;\n",
       "    }\n",
       "</style>\n",
       "<table border=\"1\" class=\"dataframe\">\n",
       "  <thead>\n",
       "    <tr style=\"text-align: right;\">\n",
       "      <th></th>\n",
       "      <th>GPE</th>\n",
       "      <th>ID</th>\n",
       "      <th>polarity</th>\n",
       "      <th>subjectivity</th>\n",
       "    </tr>\n",
       "  </thead>\n",
       "  <tbody>\n",
       "    <tr>\n",
       "      <th>0</th>\n",
       "      <td>Afghanistan</td>\n",
       "      <td>3018.625000</td>\n",
       "      <td>-0.031448</td>\n",
       "      <td>0.135565</td>\n",
       "    </tr>\n",
       "    <tr>\n",
       "      <th>1</th>\n",
       "      <td>Al-Abadi</td>\n",
       "      <td>2881.000000</td>\n",
       "      <td>0.000000</td>\n",
       "      <td>0.000000</td>\n",
       "    </tr>\n",
       "    <tr>\n",
       "      <th>2</th>\n",
       "      <td>Alabama</td>\n",
       "      <td>2341.750000</td>\n",
       "      <td>0.229167</td>\n",
       "      <td>0.270833</td>\n",
       "    </tr>\n",
       "    <tr>\n",
       "      <th>3</th>\n",
       "      <td>Alaska</td>\n",
       "      <td>1816.666667</td>\n",
       "      <td>0.013988</td>\n",
       "      <td>0.361905</td>\n",
       "    </tr>\n",
       "    <tr>\n",
       "      <th>4</th>\n",
       "      <td>America</td>\n",
       "      <td>2374.895833</td>\n",
       "      <td>0.070875</td>\n",
       "      <td>0.359247</td>\n",
       "    </tr>\n",
       "  </tbody>\n",
       "</table>\n",
       "</div>"
      ],
      "text/plain": [
       "           GPE           ID  polarity  subjectivity\n",
       "0  Afghanistan  3018.625000 -0.031448      0.135565\n",
       "1     Al-Abadi  2881.000000  0.000000      0.000000\n",
       "2      Alabama  2341.750000  0.229167      0.270833\n",
       "3       Alaska  1816.666667  0.013988      0.361905\n",
       "4      America  2374.895833  0.070875      0.359247"
      ]
     },
     "execution_count": 139,
     "metadata": {},
     "output_type": "execute_result"
    }
   ],
   "source": [
    "mean_df.head()"
   ]
  },
  {
   "cell_type": "code",
   "execution_count": 140,
   "id": "b78032f2-b46b-43dc-8b06-34be49635ea0",
   "metadata": {
    "execution": {
     "iopub.execute_input": "2022-05-25T15:01:42.453185Z",
     "iopub.status.busy": "2022-05-25T15:01:42.452556Z",
     "iopub.status.idle": "2022-05-25T15:01:42.461596Z",
     "shell.execute_reply": "2022-05-25T15:01:42.460733Z",
     "shell.execute_reply.started": "2022-05-25T15:01:42.453134Z"
    },
    "tags": []
   },
   "outputs": [
    {
     "data": {
      "text/plain": [
       "Index(['GPE', 'ID', 'polarity', 'subjectivity'], dtype='object')"
      ]
     },
     "execution_count": 140,
     "metadata": {},
     "output_type": "execute_result"
    }
   ],
   "source": [
    "mean_df.columns"
   ]
  },
  {
   "cell_type": "code",
   "execution_count": 141,
   "id": "c0aa1c9b-7ad2-4f10-91e5-5957f5ba7b46",
   "metadata": {
    "execution": {
     "iopub.execute_input": "2022-05-25T15:01:43.682610Z",
     "iopub.status.busy": "2022-05-25T15:01:43.682009Z",
     "iopub.status.idle": "2022-05-25T15:01:43.690128Z",
     "shell.execute_reply": "2022-05-25T15:01:43.689104Z",
     "shell.execute_reply.started": "2022-05-25T15:01:43.682561Z"
    },
    "tags": []
   },
   "outputs": [],
   "source": [
    "sum_df = mean_df[mean_df.GPE.isin(gpes)]"
   ]
  },
  {
   "cell_type": "code",
   "execution_count": 142,
   "id": "2a72fb12-fc3e-4667-9c5d-0ed28964b38a",
   "metadata": {
    "execution": {
     "iopub.execute_input": "2022-05-25T15:01:44.146947Z",
     "iopub.status.busy": "2022-05-25T15:01:44.146340Z",
     "iopub.status.idle": "2022-05-25T15:01:44.154705Z",
     "shell.execute_reply": "2022-05-25T15:01:44.153784Z",
     "shell.execute_reply.started": "2022-05-25T15:01:44.146896Z"
    },
    "tags": []
   },
   "outputs": [
    {
     "data": {
      "text/plain": [
       "20"
      ]
     },
     "execution_count": 142,
     "metadata": {},
     "output_type": "execute_result"
    }
   ],
   "source": [
    "len(sum_df)"
   ]
  },
  {
   "cell_type": "code",
   "execution_count": 162,
   "id": "b514e263-bcef-48fd-b891-0e0a01a716ae",
   "metadata": {
    "execution": {
     "iopub.execute_input": "2022-05-25T15:19:33.549140Z",
     "iopub.status.busy": "2022-05-25T15:19:33.548511Z",
     "iopub.status.idle": "2022-05-25T15:19:34.175681Z",
     "shell.execute_reply": "2022-05-25T15:19:34.175107Z",
     "shell.execute_reply.started": "2022-05-25T15:19:33.549088Z"
    },
    "tags": []
   },
   "outputs": [
    {
     "data": {
      "image/png": "[encoded data removed]",
      "text/plain": [
       "<Figure size 1080x720 with 2 Axes>"
      ]
     },
     "metadata": {
      "needs_background": "light"
     },
     "output_type": "display_data"
    }
   ],
   "source": [
    "r = np.arange(len(sum_df[\"GPE\"]))\n",
    "width = 1\n",
    "\n",
    "\n",
    "# Creating figure\n",
    "fig, (ax1, ax2) = plt.subplots(2, 1)\n",
    "fig.set_size_inches(15, 10)\n",
    "\n",
    "ax1.set_title('Real News: spacyTextBlob scores', fontsize = 15)\n",
    "ax1.bar(sum_df[\"GPE\"], sum_df[\"polarity\"], width, label = \"Polarity\")\n",
    "ax1.tick_params(axis='x', rotation=60)\n",
    "ax1.set_ylabel('Score', fontsize = 12)\n",
    "\n",
    "ax2.bar(sum_df[\"GPE\"], sum_df[\"subjectivity\"], width, label = \"Subjectivity\")\n",
    "ax2.tick_params(axis='x', rotation=60)\n",
    "ax2.set_ylabel('Score', fontsize = 12)\n",
    "\n",
    "plt.xlabel('GPEs', fontsize = 12)\n",
    "# plt.legend()\n",
    "plt.subplots_adjust(hspace=0.4)\n",
    "\n",
    "# Save figure\n",
    "plt.savefig(os.path.join(\"output\", \"blob_img.png\"))"
   ]
  },
  {
   "cell_type": "markdown",
   "id": "2f0d3bd4-68c9-4956-a387-9765099bf25c",
   "metadata": {},
   "source": [
    "Real News"
   ]
  },
  {
   "cell_type": "code",
   "execution_count": 20,
   "id": "ec3cc949-ef8c-4352-9a2b-c12bfee45fe8",
   "metadata": {
    "execution": {
     "iopub.execute_input": "2022-03-15T17:34:23.121290Z",
     "iopub.status.busy": "2022-03-15T17:34:23.120524Z",
     "iopub.status.idle": "2022-03-15T17:34:23.132985Z",
     "shell.execute_reply": "2022-03-15T17:34:23.131825Z",
     "shell.execute_reply.started": "2022-03-15T17:34:23.121233Z"
    },
    "tags": []
   },
   "outputs": [],
   "source": [
    "# Finding the 10 most common entities\n",
    "values = fake_df[\"GPE\"].value_counts().values.tolist()[0:20]\n",
    "gpes = fake_df[\"GPE\"].value_counts().index.tolist()[0:20]"
   ]
  },
  {
   "cell_type": "code",
   "execution_count": 21,
   "id": "bc9841e3-e464-4c9a-8f1c-122dc3e52438",
   "metadata": {
    "execution": {
     "iopub.execute_input": "2022-03-15T17:34:25.358315Z",
     "iopub.status.busy": "2022-03-15T17:34:25.357795Z",
     "iopub.status.idle": "2022-03-15T17:34:25.364739Z",
     "shell.execute_reply": "2022-03-15T17:34:25.363621Z",
     "shell.execute_reply.started": "2022-03-15T17:34:25.358277Z"
    },
    "tags": []
   },
   "outputs": [
    {
     "name": "stdout",
     "output_type": "stream",
     "text": [
      "[104, 93, 39, 38, 36, 19, 18, 15, 12, 12]\n",
      "['US', 'Russia', 'U.S.', 'Syria', 'America', 'Israel', 'Mosul', 'China', 'Obama', 'UK']\n"
     ]
    }
   ],
   "source": [
    "print(values)\n",
    "print(gpes)"
   ]
  },
  {
   "cell_type": "code",
   "execution_count": 22,
   "id": "44d463ea-aa41-4320-ae53-c784238a74b0",
   "metadata": {
    "execution": {
     "iopub.execute_input": "2022-03-15T17:34:30.963098Z",
     "iopub.status.busy": "2022-03-15T17:34:30.962560Z",
     "iopub.status.idle": "2022-03-15T17:34:31.069952Z",
     "shell.execute_reply": "2022-03-15T17:34:31.069331Z",
     "shell.execute_reply.started": "2022-03-15T17:34:30.963046Z"
    },
    "tags": []
   },
   "outputs": [
    {
     "data": {
      "text/plain": [
       "<BarContainer object of 10 artists>"
      ]
     },
     "execution_count": 22,
     "metadata": {},
     "output_type": "execute_result"
    },
    {
     "data": {
      "image/png": "[encoded data removed]",
      "text/plain": [
       "<Figure size 432x288 with 1 Axes>"
      ]
     },
     "metadata": {
      "needs_background": "light"
     },
     "output_type": "display_data"
    }
   ],
   "source": [
    "# Creating figure\n",
    "fig, ax = plt.subplots()\n",
    "ax.bar(gpes, values)"
   ]
  }
 ],
 "metadata": {
  "kernelspec": {
   "display_name": "Python 3 ",
   "language": "python",
   "name": "python3"
  },
  "language_info": {
   "codemirror_mode": {
    "name": "ipython",
    "version": 3
   },
   "file_extension": ".py",
   "mimetype": "text/x-python",
   "name": "python",
   "nbconvert_exporter": "python",
   "pygments_lexer": "ipython3",
   "version": "3.9.6"
  }
 },
 "nbformat": 4,
 "nbformat_minor": 5
}
