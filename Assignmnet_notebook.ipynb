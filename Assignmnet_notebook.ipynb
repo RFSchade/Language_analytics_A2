{
 "cells": [
  {
   "cell_type": "markdown",
   "id": "ad47832a-6f6b-4b20-883c-0729af6c1afd",
   "metadata": {},
   "source": [
    "# Assignmnet 2 (Task 2) "
   ]
  },
  {
   "cell_type": "markdown",
   "id": "5ed1c20e-4ecd-488e-89b9-81c12f4e154b",
   "metadata": {},
   "source": [
    "Import packages"
   ]
  },
  {
   "cell_type": "code",
   "execution_count": 1,
   "id": "feb842ac-1bed-41bb-a06a-997be5a2a611",
   "metadata": {
    "execution": {
     "iopub.execute_input": "2022-03-15T17:27:24.786062Z",
     "iopub.status.busy": "2022-03-15T17:27:24.785381Z",
     "iopub.status.idle": "2022-03-15T17:27:26.504560Z",
     "shell.execute_reply": "2022-03-15T17:27:26.503278Z",
     "shell.execute_reply.started": "2022-03-15T17:27:24.786005Z"
    },
    "tags": []
   },
   "outputs": [],
   "source": [
    "# Data analysis\n",
    "import os\n",
    "import pandas as pd\n",
    "from tqdm import tqdm # For telling me how long there is left for my code to run (Progress bar)\n",
    "\n",
    "# NLP\n",
    "import spacy\n",
    "nlp = spacy.load(\"en_core_web_sm\")\n",
    "\n",
    "# sentiment analysis VADER\n",
    "from vaderSentiment.vaderSentiment import SentimentIntensityAnalyzer\n",
    "analyzer = SentimentIntensityAnalyzer() # Initializing VADER\n",
    "# sentiment with spacyTextBlob\n",
    "from spacytextblob.spacytextblob import SpacyTextBlob\n",
    "nlp.add_pipe('spacytextblob') # Add to spacy pipeline\n",
    "\n",
    "# visualisations\n",
    "import matplotlib.pyplot as plt"
   ]
  },
  {
   "cell_type": "markdown",
   "id": "7252ab5a-6277-41a6-9dbf-b0a3fa6b898d",
   "metadata": {},
   "source": [
    "Load Data"
   ]
  },
  {
   "cell_type": "code",
   "execution_count": 2,
   "id": "1affb55c-d180-4756-b81a-8aa5bbc0d0ac",
   "metadata": {
    "execution": {
     "iopub.execute_input": "2022-03-15T17:27:26.513806Z",
     "iopub.status.busy": "2022-03-15T17:27:26.513678Z",
     "iopub.status.idle": "2022-03-15T17:27:27.050129Z",
     "shell.execute_reply": "2022-03-15T17:27:27.049410Z",
     "shell.execute_reply.started": "2022-03-15T17:27:26.513792Z"
    },
    "tags": []
   },
   "outputs": [],
   "source": [
    "# Get the filepath\n",
    "filepath = os.path.join(\"..\", \"..\", \"..\", \"CDS-LANG\", \"tabular_examples\", \"fake_or_real_news.csv\")\n",
    "# Reading the filepath \n",
    "data = pd.read_csv(filepath)"
   ]
  },
  {
   "cell_type": "code",
   "execution_count": 3,
   "id": "0a93800b-5730-4bd6-a376-70f588b63626",
   "metadata": {
    "execution": {
     "iopub.execute_input": "2022-03-15T17:27:27.363730Z",
     "iopub.status.busy": "2022-03-15T17:27:27.363279Z",
     "iopub.status.idle": "2022-03-15T17:27:27.381893Z",
     "shell.execute_reply": "2022-03-15T17:27:27.381185Z",
     "shell.execute_reply.started": "2022-03-15T17:27:27.363682Z"
    },
    "tags": []
   },
   "outputs": [
    {
     "data": {
      "text/html": [
       "<div>\n",
       "<style scoped>\n",
       "    .dataframe tbody tr th:only-of-type {\n",
       "        vertical-align: middle;\n",
       "    }\n",
       "\n",
       "    .dataframe tbody tr th {\n",
       "        vertical-align: top;\n",
       "    }\n",
       "\n",
       "    .dataframe thead th {\n",
       "        text-align: right;\n",
       "    }\n",
       "</style>\n",
       "<table border=\"1\" class=\"dataframe\">\n",
       "  <thead>\n",
       "    <tr style=\"text-align: right;\">\n",
       "      <th></th>\n",
       "      <th>Unnamed: 0</th>\n",
       "      <th>title</th>\n",
       "      <th>text</th>\n",
       "      <th>label</th>\n",
       "    </tr>\n",
       "  </thead>\n",
       "  <tbody>\n",
       "    <tr>\n",
       "      <th>0</th>\n",
       "      <td>8476</td>\n",
       "      <td>You Can Smell Hillary’s Fear</td>\n",
       "      <td>Daniel Greenfield, a Shillman Journalism Fello...</td>\n",
       "      <td>FAKE</td>\n",
       "    </tr>\n",
       "    <tr>\n",
       "      <th>1</th>\n",
       "      <td>10294</td>\n",
       "      <td>Watch The Exact Moment Paul Ryan Committed Pol...</td>\n",
       "      <td>Google Pinterest Digg Linkedin Reddit Stumbleu...</td>\n",
       "      <td>FAKE</td>\n",
       "    </tr>\n",
       "    <tr>\n",
       "      <th>2</th>\n",
       "      <td>3608</td>\n",
       "      <td>Kerry to go to Paris in gesture of sympathy</td>\n",
       "      <td>U.S. Secretary of State John F. Kerry said Mon...</td>\n",
       "      <td>REAL</td>\n",
       "    </tr>\n",
       "    <tr>\n",
       "      <th>3</th>\n",
       "      <td>10142</td>\n",
       "      <td>Bernie supporters on Twitter erupt in anger ag...</td>\n",
       "      <td>— Kaydee King (@KaydeeKing) November 9, 2016 T...</td>\n",
       "      <td>FAKE</td>\n",
       "    </tr>\n",
       "    <tr>\n",
       "      <th>4</th>\n",
       "      <td>875</td>\n",
       "      <td>The Battle of New York: Why This Primary Matters</td>\n",
       "      <td>It's primary day in New York and front-runners...</td>\n",
       "      <td>REAL</td>\n",
       "    </tr>\n",
       "  </tbody>\n",
       "</table>\n",
       "</div>"
      ],
      "text/plain": [
       "   Unnamed: 0                                              title  \\\n",
       "0        8476                       You Can Smell Hillary’s Fear   \n",
       "1       10294  Watch The Exact Moment Paul Ryan Committed Pol...   \n",
       "2        3608        Kerry to go to Paris in gesture of sympathy   \n",
       "3       10142  Bernie supporters on Twitter erupt in anger ag...   \n",
       "4         875   The Battle of New York: Why This Primary Matters   \n",
       "\n",
       "                                                text label  \n",
       "0  Daniel Greenfield, a Shillman Journalism Fello...  FAKE  \n",
       "1  Google Pinterest Digg Linkedin Reddit Stumbleu...  FAKE  \n",
       "2  U.S. Secretary of State John F. Kerry said Mon...  REAL  \n",
       "3  — Kaydee King (@KaydeeKing) November 9, 2016 T...  FAKE  \n",
       "4  It's primary day in New York and front-runners...  REAL  "
      ]
     },
     "execution_count": 3,
     "metadata": {},
     "output_type": "execute_result"
    }
   ],
   "source": [
    "# CHecking the data \n",
    "data.head()"
   ]
  },
  {
   "cell_type": "code",
   "execution_count": 4,
   "id": "7301728b-7a29-4d9a-ac52-c43d6cd42d37",
   "metadata": {
    "execution": {
     "iopub.execute_input": "2022-03-15T17:27:28.469276Z",
     "iopub.status.busy": "2022-03-15T17:27:28.468787Z",
     "iopub.status.idle": "2022-03-15T17:27:28.480497Z",
     "shell.execute_reply": "2022-03-15T17:27:28.479746Z",
     "shell.execute_reply.started": "2022-03-15T17:27:28.469228Z"
    },
    "tags": []
   },
   "outputs": [
    {
     "data": {
      "text/plain": [
       "REAL    3171\n",
       "FAKE    3164\n",
       "Name: label, dtype: int64"
      ]
     },
     "execution_count": 4,
     "metadata": {},
     "output_type": "execute_result"
    }
   ],
   "source": [
    "# Having a look at the REAL and FAKE values \n",
    "data[\"label\"].value_counts()"
   ]
  },
  {
   "cell_type": "markdown",
   "id": "defcdc3d-5013-4285-accf-1d20156630e6",
   "metadata": {},
   "source": [
    "Split data"
   ]
  },
  {
   "cell_type": "code",
   "execution_count": 5,
   "id": "46eb4fc2-359b-4037-ba5b-1d8d5eadfab5",
   "metadata": {
    "execution": {
     "iopub.execute_input": "2022-03-15T17:27:30.512503Z",
     "iopub.status.busy": "2022-03-15T17:27:30.512026Z",
     "iopub.status.idle": "2022-03-15T17:27:30.529344Z",
     "shell.execute_reply": "2022-03-15T17:27:30.528713Z",
     "shell.execute_reply.started": "2022-03-15T17:27:30.512454Z"
    },
    "tags": []
   },
   "outputs": [
    {
     "data": {
      "text/plain": [
       "REAL    3171\n",
       "Name: label, dtype: int64"
      ]
     },
     "execution_count": 5,
     "metadata": {},
     "output_type": "execute_result"
    }
   ],
   "source": [
    "# Creating real_news dataset\n",
    "real_news = data[data['label'] == \"REAL\"]\n",
    "# resetting index\n",
    "real_news = real_news.reset_index()\n",
    "# Checking dataset \n",
    "real_news[\"label\"].value_counts()"
   ]
  },
  {
   "cell_type": "code",
   "execution_count": 6,
   "id": "7d472cd2-f354-46fe-a5b9-47b94c19a3c0",
   "metadata": {
    "execution": {
     "iopub.execute_input": "2022-03-15T17:27:31.522581Z",
     "iopub.status.busy": "2022-03-15T17:27:31.521934Z",
     "iopub.status.idle": "2022-03-15T17:27:31.538470Z",
     "shell.execute_reply": "2022-03-15T17:27:31.537790Z",
     "shell.execute_reply.started": "2022-03-15T17:27:31.522530Z"
    },
    "tags": []
   },
   "outputs": [
    {
     "data": {
      "text/plain": [
       "FAKE    3164\n",
       "Name: label, dtype: int64"
      ]
     },
     "execution_count": 6,
     "metadata": {},
     "output_type": "execute_result"
    }
   ],
   "source": [
    "# Creating fake_news dataset \n",
    "fake_news = data[data['label'] == \"FAKE\"]\n",
    "# resetting index\n",
    "fake_news = fake_news.reset_index()\n",
    "# Checking dataset \n",
    "fake_news[\"label\"].value_counts()"
   ]
  },
  {
   "cell_type": "code",
   "execution_count": 7,
   "id": "a7eadcad-6c18-4123-b455-01801cfebed9",
   "metadata": {
    "execution": {
     "iopub.execute_input": "2022-03-15T17:27:32.364964Z",
     "iopub.status.busy": "2022-03-15T17:27:32.364496Z",
     "iopub.status.idle": "2022-03-15T17:27:32.375195Z",
     "shell.execute_reply": "2022-03-15T17:27:32.374055Z",
     "shell.execute_reply.started": "2022-03-15T17:27:32.364916Z"
    },
    "tags": []
   },
   "outputs": [
    {
     "data": {
      "text/plain": [
       "{'neg': 0.0, 'neu': 0.762, 'pos': 0.238, 'compound': 0.3612}"
      ]
     },
     "execution_count": 7,
     "metadata": {},
     "output_type": "execute_result"
    }
   ],
   "source": [
    "# Sentimnet analysis (with VADER)\n",
    "text_example = real_news[\"title\"][0]\n",
    "analyzer.polarity_scores(text_example)"
   ]
  },
  {
   "cell_type": "markdown",
   "id": "dbfe0bb0-c631-41fa-b618-2820dae0d4ed",
   "metadata": {
    "execution": {
     "iopub.execute_input": "2022-03-11T13:00:40.850995Z",
     "iopub.status.busy": "2022-03-11T13:00:40.850451Z",
     "iopub.status.idle": "2022-03-11T13:00:40.890334Z",
     "shell.execute_reply": "2022-03-11T13:00:40.889426Z",
     "shell.execute_reply.started": "2022-03-11T13:00:40.850960Z"
    },
    "tags": []
   },
   "source": [
    "### Real News"
   ]
  },
  {
   "cell_type": "code",
   "execution_count": 8,
   "id": "f8ccfaea-8014-4b29-be83-b6171e283c6d",
   "metadata": {
    "execution": {
     "iopub.execute_input": "2022-03-15T17:27:34.122368Z",
     "iopub.status.busy": "2022-03-15T17:27:34.121599Z",
     "iopub.status.idle": "2022-03-15T17:27:39.492650Z",
     "shell.execute_reply": "2022-03-15T17:27:39.492045Z",
     "shell.execute_reply.started": "2022-03-15T17:27:34.122306Z"
    },
    "tags": []
   },
   "outputs": [
    {
     "name": "stderr",
     "output_type": "stream",
     "text": [
      "3171it [00:05, 592.53it/s]\n"
     ]
    }
   ],
   "source": [
    "# Iterating through the real news\n",
    "real_data = []\n",
    "\n",
    "# for-loop\n",
    "for headline, ID in tqdm(zip(nlp.pipe(real_news[\"title\"], batch_size=500), real_news[\"Unnamed: 0\"])):\n",
    "    sentiment = analyzer.polarity_scores(text_example)\n",
    "    for entity in headline.ents:\n",
    "        if entity.label_ == \"GPE\":\n",
    "            real_data.append((ID, sentiment[\"neg\"], sentiment[\"neu\"], sentiment[\"pos\"], sentiment[\"compound\"], entity.text))"
   ]
  },
  {
   "cell_type": "code",
   "execution_count": 9,
   "id": "f9801edc-574d-4163-8366-fadffe2d7ac3",
   "metadata": {
    "execution": {
     "iopub.execute_input": "2022-03-15T17:27:43.830836Z",
     "iopub.status.busy": "2022-03-15T17:27:43.830304Z",
     "iopub.status.idle": "2022-03-15T17:27:43.838268Z",
     "shell.execute_reply": "2022-03-15T17:27:43.837047Z",
     "shell.execute_reply.started": "2022-03-15T17:27:43.830769Z"
    },
    "tags": []
   },
   "outputs": [
    {
     "name": "stdout",
     "output_type": "stream",
     "text": [
      "[(3608, 0.0, 0.762, 0.238, 0.3612, 'Paris'), (875, 0.0, 0.762, 0.238, 0.3612, 'New York'), (2909, 0.0, 0.762, 0.238, 0.3612, 'Iran'), (1357, 0.0, 0.762, 0.238, 0.3612, 'Iowa'), (3304, 0.0, 0.762, 0.238, 0.3612, 'Iran'), (3078, 0.0, 0.762, 0.238, 0.3612, 'America'), (778, 0.0, 0.762, 0.238, 0.3612, 'Staten Island'), (755, 0.0, 0.762, 0.238, 0.3612, 'W. Va.'), (2777, 0.0, 0.762, 0.238, 0.3612, 'Afghanistan'), (3648, 0.0, 0.762, 0.238, 0.3612, 'Orlando')]\n"
     ]
    }
   ],
   "source": [
    "# Checking the data \n",
    "print(real_data[0:10])"
   ]
  },
  {
   "cell_type": "code",
   "execution_count": 10,
   "id": "cb2a44b5-a1d7-4750-9e80-966d5239a3f0",
   "metadata": {
    "execution": {
     "iopub.execute_input": "2022-03-15T17:27:45.600543Z",
     "iopub.status.busy": "2022-03-15T17:27:45.600047Z",
     "iopub.status.idle": "2022-03-15T17:27:45.611147Z",
     "shell.execute_reply": "2022-03-15T17:27:45.610367Z",
     "shell.execute_reply.started": "2022-03-15T17:27:45.600491Z"
    },
    "tags": []
   },
   "outputs": [],
   "source": [
    "# Creating dataframe \n",
    "real_df = pd.DataFrame(real_data, columns = [\"ID\", \"neg\", \"neu\", \"pos\", \"compound\", \"GPE\"])"
   ]
  },
  {
   "cell_type": "code",
   "execution_count": 11,
   "id": "aee0783e-3586-4661-bed0-873e2eaba292",
   "metadata": {
    "execution": {
     "iopub.execute_input": "2022-03-15T17:27:48.232022Z",
     "iopub.status.busy": "2022-03-15T17:27:48.231491Z",
     "iopub.status.idle": "2022-03-15T17:27:48.249864Z",
     "shell.execute_reply": "2022-03-15T17:27:48.249191Z",
     "shell.execute_reply.started": "2022-03-15T17:27:48.231968Z"
    },
    "tags": []
   },
   "outputs": [
    {
     "data": {
      "text/html": [
       "<div>\n",
       "<style scoped>\n",
       "    .dataframe tbody tr th:only-of-type {\n",
       "        vertical-align: middle;\n",
       "    }\n",
       "\n",
       "    .dataframe tbody tr th {\n",
       "        vertical-align: top;\n",
       "    }\n",
       "\n",
       "    .dataframe thead th {\n",
       "        text-align: right;\n",
       "    }\n",
       "</style>\n",
       "<table border=\"1\" class=\"dataframe\">\n",
       "  <thead>\n",
       "    <tr style=\"text-align: right;\">\n",
       "      <th></th>\n",
       "      <th>ID</th>\n",
       "      <th>neg</th>\n",
       "      <th>neu</th>\n",
       "      <th>pos</th>\n",
       "      <th>compound</th>\n",
       "      <th>GPE</th>\n",
       "    </tr>\n",
       "  </thead>\n",
       "  <tbody>\n",
       "    <tr>\n",
       "      <th>0</th>\n",
       "      <td>3608</td>\n",
       "      <td>0.0</td>\n",
       "      <td>0.762</td>\n",
       "      <td>0.238</td>\n",
       "      <td>0.3612</td>\n",
       "      <td>Paris</td>\n",
       "    </tr>\n",
       "    <tr>\n",
       "      <th>1</th>\n",
       "      <td>875</td>\n",
       "      <td>0.0</td>\n",
       "      <td>0.762</td>\n",
       "      <td>0.238</td>\n",
       "      <td>0.3612</td>\n",
       "      <td>New York</td>\n",
       "    </tr>\n",
       "    <tr>\n",
       "      <th>2</th>\n",
       "      <td>2909</td>\n",
       "      <td>0.0</td>\n",
       "      <td>0.762</td>\n",
       "      <td>0.238</td>\n",
       "      <td>0.3612</td>\n",
       "      <td>Iran</td>\n",
       "    </tr>\n",
       "    <tr>\n",
       "      <th>3</th>\n",
       "      <td>1357</td>\n",
       "      <td>0.0</td>\n",
       "      <td>0.762</td>\n",
       "      <td>0.238</td>\n",
       "      <td>0.3612</td>\n",
       "      <td>Iowa</td>\n",
       "    </tr>\n",
       "    <tr>\n",
       "      <th>4</th>\n",
       "      <td>3304</td>\n",
       "      <td>0.0</td>\n",
       "      <td>0.762</td>\n",
       "      <td>0.238</td>\n",
       "      <td>0.3612</td>\n",
       "      <td>Iran</td>\n",
       "    </tr>\n",
       "  </tbody>\n",
       "</table>\n",
       "</div>"
      ],
      "text/plain": [
       "     ID  neg    neu    pos  compound       GPE\n",
       "0  3608  0.0  0.762  0.238    0.3612     Paris\n",
       "1   875  0.0  0.762  0.238    0.3612  New York\n",
       "2  2909  0.0  0.762  0.238    0.3612      Iran\n",
       "3  1357  0.0  0.762  0.238    0.3612      Iowa\n",
       "4  3304  0.0  0.762  0.238    0.3612      Iran"
      ]
     },
     "execution_count": 11,
     "metadata": {},
     "output_type": "execute_result"
    }
   ],
   "source": [
    "# Checking the dataframe \n",
    "real_df.head()"
   ]
  },
  {
   "cell_type": "code",
   "execution_count": 12,
   "id": "15fdae37-b34f-4f2a-ace1-115b55f863db",
   "metadata": {
    "execution": {
     "iopub.execute_input": "2022-03-15T17:27:49.159703Z",
     "iopub.status.busy": "2022-03-15T17:27:49.159241Z",
     "iopub.status.idle": "2022-03-15T17:27:49.278369Z",
     "shell.execute_reply": "2022-03-15T17:27:49.277323Z",
     "shell.execute_reply.started": "2022-03-15T17:27:49.159654Z"
    },
    "tags": []
   },
   "outputs": [],
   "source": [
    "# Saving the dataframe\n",
    "outpath_real = os.path.join(\"output\", \"real_news_df.csv\")\n",
    "real_df.to_csv(outpath_real, index=False)"
   ]
  },
  {
   "cell_type": "markdown",
   "id": "c357758e-4a2a-464c-9a0a-9787e516844c",
   "metadata": {},
   "source": [
    "### Fake News"
   ]
  },
  {
   "cell_type": "code",
   "execution_count": 13,
   "id": "253ade6f-a831-4d86-b541-9e0d17ffb291",
   "metadata": {
    "execution": {
     "iopub.execute_input": "2022-03-15T17:27:52.738511Z",
     "iopub.status.busy": "2022-03-15T17:27:52.737997Z",
     "iopub.status.idle": "2022-03-15T17:27:58.313067Z",
     "shell.execute_reply": "2022-03-15T17:27:58.312508Z",
     "shell.execute_reply.started": "2022-03-15T17:27:52.738457Z"
    },
    "tags": []
   },
   "outputs": [
    {
     "name": "stderr",
     "output_type": "stream",
     "text": [
      "3164it [00:05, 569.25it/s]\n"
     ]
    }
   ],
   "source": [
    "# Iterating through the fake news\n",
    "fake_data = []\n",
    "\n",
    "# For-loop\n",
    "for headline, ID in tqdm(zip(nlp.pipe(fake_news[\"title\"], batch_size=500), fake_news[\"Unnamed: 0\"])):\n",
    "    sentiment = analyzer.polarity_scores(text_example)\n",
    "    for entity in headline.ents:\n",
    "        if entity.label_ == \"GPE\":\n",
    "            fake_data.append((ID, sentiment[\"neg\"], sentiment[\"neu\"], sentiment[\"pos\"], sentiment[\"compound\"], entity.text))"
   ]
  },
  {
   "cell_type": "code",
   "execution_count": 14,
   "id": "2f22457f-596d-484b-8d4f-7bd618e703e2",
   "metadata": {
    "execution": {
     "iopub.execute_input": "2022-03-15T17:28:10.925759Z",
     "iopub.status.busy": "2022-03-15T17:28:10.925221Z",
     "iopub.status.idle": "2022-03-15T17:28:10.934035Z",
     "shell.execute_reply": "2022-03-15T17:28:10.932946Z",
     "shell.execute_reply.started": "2022-03-15T17:28:10.925708Z"
    },
    "tags": []
   },
   "outputs": [
    {
     "name": "stdout",
     "output_type": "stream",
     "text": [
      "[(6903, 0.0, 0.762, 0.238, 0.3612, 'Tehran'), (6903, 0.0, 0.762, 0.238, 0.3612, 'USA'), (7385, 0.0, 0.762, 0.238, 0.3612, 'UK'), (7385, 0.0, 0.762, 0.238, 0.3612, 'Russia'), (9016, 0.0, 0.762, 0.238, 0.3612, 'Empire'), (7540, 0.0, 0.762, 0.238, 0.3612, 'Detroit'), (7049, 0.0, 0.762, 0.238, 0.3612, 'US'), (6763, 0.0, 0.762, 0.238, 0.3612, 'Russia'), (6763, 0.0, 0.762, 0.238, 0.3612, 'USA'), (9398, 0.0, 0.762, 0.238, 0.3612, 'Russia')]\n"
     ]
    }
   ],
   "source": [
    "# Checking the data\n",
    "print(fake_data[0:10])"
   ]
  },
  {
   "cell_type": "code",
   "execution_count": 15,
   "id": "29090593-3e87-48fa-a409-7a94f5320eea",
   "metadata": {
    "execution": {
     "iopub.execute_input": "2022-03-15T17:29:33.671472Z",
     "iopub.status.busy": "2022-03-15T17:29:33.670945Z",
     "iopub.status.idle": "2022-03-15T17:29:33.682082Z",
     "shell.execute_reply": "2022-03-15T17:29:33.681086Z",
     "shell.execute_reply.started": "2022-03-15T17:29:33.671421Z"
    },
    "tags": []
   },
   "outputs": [],
   "source": [
    "# Creating dataframe \n",
    "fake_df = pd.DataFrame(fake_data, columns = [\"ID\", \"neg\", \"neu\", \"pos\", \"compound\", \"GPE\"])"
   ]
  },
  {
   "cell_type": "code",
   "execution_count": 16,
   "id": "90d88a33-82ad-4b34-a8e5-e62f888177ce",
   "metadata": {
    "execution": {
     "iopub.execute_input": "2022-03-15T17:29:34.760586Z",
     "iopub.status.busy": "2022-03-15T17:29:34.759952Z",
     "iopub.status.idle": "2022-03-15T17:29:34.998800Z",
     "shell.execute_reply": "2022-03-15T17:29:34.997746Z",
     "shell.execute_reply.started": "2022-03-15T17:29:34.760535Z"
    },
    "tags": []
   },
   "outputs": [],
   "source": [
    "# Saving the dataframe\n",
    "outpath_fake = os.path.join(\"output\", \"fake_news_df.csv\")\n",
    "fake_df.to_csv(outpath_fake, index=False)"
   ]
  },
  {
   "cell_type": "markdown",
   "id": "a3c4fd5b-12f8-4332-b6e9-f1728c083d4b",
   "metadata": {},
   "source": [
    "### Plotting "
   ]
  },
  {
   "cell_type": "markdown",
   "id": "eb4c8474-929b-4d45-83d5-bb5b7a5ae214",
   "metadata": {},
   "source": [
    "Real News"
   ]
  },
  {
   "cell_type": "code",
   "execution_count": 17,
   "id": "92ab7b62-11f5-4518-8f60-22e13bc08aae",
   "metadata": {
    "execution": {
     "iopub.execute_input": "2022-03-15T17:29:44.506740Z",
     "iopub.status.busy": "2022-03-15T17:29:44.506222Z",
     "iopub.status.idle": "2022-03-15T17:29:44.518308Z",
     "shell.execute_reply": "2022-03-15T17:29:44.516950Z",
     "shell.execute_reply.started": "2022-03-15T17:29:44.506689Z"
    },
    "tags": []
   },
   "outputs": [],
   "source": [
    "# Finding the 10 most common entities\n",
    "values = real_df[\"GPE\"].value_counts().values.tolist()[0:10]\n",
    "gpes = real_df[\"GPE\"].value_counts().index.tolist()[0:10]"
   ]
  },
  {
   "cell_type": "code",
   "execution_count": 18,
   "id": "8b835580-cddb-4894-98aa-ae88a86e9ff2",
   "metadata": {
    "execution": {
     "iopub.execute_input": "2022-03-15T17:29:45.656494Z",
     "iopub.status.busy": "2022-03-15T17:29:45.656010Z",
     "iopub.status.idle": "2022-03-15T17:29:45.663996Z",
     "shell.execute_reply": "2022-03-15T17:29:45.662943Z",
     "shell.execute_reply.started": "2022-03-15T17:29:45.656444Z"
    },
    "tags": []
   },
   "outputs": [
    {
     "name": "stdout",
     "output_type": "stream",
     "text": [
      "[129, 94, 60, 49, 42, 42, 29, 23, 22, 20]\n",
      "['Obama', 'Iran', 'US', 'America', 'U.S.', 'Iowa', 'Syria', 'Russia', 'Paris', 'New Hampshire']\n"
     ]
    }
   ],
   "source": [
    "print(values)\n",
    "print(gpes)"
   ]
  },
  {
   "cell_type": "code",
   "execution_count": 19,
   "id": "6fbde1f7-0316-47eb-a7e7-0239fa6c856d",
   "metadata": {
    "execution": {
     "iopub.execute_input": "2022-03-15T17:29:47.854607Z",
     "iopub.status.busy": "2022-03-15T17:29:47.853935Z",
     "iopub.status.idle": "2022-03-15T17:29:47.975765Z",
     "shell.execute_reply": "2022-03-15T17:29:47.975223Z",
     "shell.execute_reply.started": "2022-03-15T17:29:47.854551Z"
    },
    "tags": []
   },
   "outputs": [
    {
     "data": {
      "text/plain": [
       "<BarContainer object of 10 artists>"
      ]
     },
     "execution_count": 19,
     "metadata": {},
     "output_type": "execute_result"
    },
    {
     "data": {
      "image/png": "[encoded data removed]",
      "text/plain": [
       "<Figure size 432x288 with 1 Axes>"
      ]
     },
     "metadata": {
      "needs_background": "light"
     },
     "output_type": "display_data"
    }
   ],
   "source": [
    "# Creating figure\n",
    "fig, ax = plt.subplots()\n",
    "ax.bar(gpes, values)"
   ]
  },
  {
   "cell_type": "markdown",
   "id": "efc3f186-05c2-4879-8b45-e92825856fa9",
   "metadata": {},
   "source": [
    "Real News"
   ]
  },
  {
   "cell_type": "code",
   "execution_count": 20,
   "id": "977d7b6e-fcc9-44a1-885d-d45b7a6b7b54",
   "metadata": {
    "execution": {
     "iopub.execute_input": "2022-03-15T17:34:23.121290Z",
     "iopub.status.busy": "2022-03-15T17:34:23.120524Z",
     "iopub.status.idle": "2022-03-15T17:34:23.132985Z",
     "shell.execute_reply": "2022-03-15T17:34:23.131825Z",
     "shell.execute_reply.started": "2022-03-15T17:34:23.121233Z"
    },
    "tags": []
   },
   "outputs": [],
   "source": [
    "# Finding the 10 most common entities\n",
    "values = fake_df[\"GPE\"].value_counts().values.tolist()[0:10]\n",
    "gpes = fake_df[\"GPE\"].value_counts().index.tolist()[0:10]"
   ]
  },
  {
   "cell_type": "code",
   "execution_count": 21,
   "id": "e043aa2a-1564-4ed0-83fb-27feb5d67480",
   "metadata": {
    "execution": {
     "iopub.execute_input": "2022-03-15T17:34:25.358315Z",
     "iopub.status.busy": "2022-03-15T17:34:25.357795Z",
     "iopub.status.idle": "2022-03-15T17:34:25.364739Z",
     "shell.execute_reply": "2022-03-15T17:34:25.363621Z",
     "shell.execute_reply.started": "2022-03-15T17:34:25.358277Z"
    },
    "tags": []
   },
   "outputs": [
    {
     "name": "stdout",
     "output_type": "stream",
     "text": [
      "[104, 93, 39, 38, 36, 19, 18, 15, 12, 12]\n",
      "['US', 'Russia', 'U.S.', 'Syria', 'America', 'Israel', 'Mosul', 'China', 'Obama', 'UK']\n"
     ]
    }
   ],
   "source": [
    "print(values)\n",
    "print(gpes)"
   ]
  },
  {
   "cell_type": "code",
   "execution_count": 22,
   "id": "85a3e48f-ce88-4aa4-b5b5-d9e65435f236",
   "metadata": {
    "execution": {
     "iopub.execute_input": "2022-03-15T17:34:30.963098Z",
     "iopub.status.busy": "2022-03-15T17:34:30.962560Z",
     "iopub.status.idle": "2022-03-15T17:34:31.069952Z",
     "shell.execute_reply": "2022-03-15T17:34:31.069331Z",
     "shell.execute_reply.started": "2022-03-15T17:34:30.963046Z"
    },
    "tags": []
   },
   "outputs": [
    {
     "data": {
      "text/plain": [
       "<BarContainer object of 10 artists>"
      ]
     },
     "execution_count": 22,
     "metadata": {},
     "output_type": "execute_result"
    },
    {
     "data": {
      "image/png": "[encoded data removed]",
      "text/plain": [
       "<Figure size 432x288 with 1 Axes>"
      ]
     },
     "metadata": {
      "needs_background": "light"
     },
     "output_type": "display_data"
    }
   ],
   "source": [
    "# Creating figure\n",
    "fig, ax = plt.subplots()\n",
    "ax.bar(gpes, values)"
   ]
  },
  {
   "cell_type": "code",
   "execution_count": null,
   "id": "d6c197ca-8378-4c3d-a2e0-0113688ddbda",
   "metadata": {},
   "outputs": [],
   "source": []
  }
 ],
 "metadata": {
  "kernelspec": {
   "display_name": "Python 3 ",
   "language": "python",
   "name": "python3"
  },
  "language_info": {
   "codemirror_mode": {
    "name": "ipython",
    "version": 3
   },
   "file_extension": ".py",
   "mimetype": "text/x-python",
   "name": "python",
   "nbconvert_exporter": "python",
   "pygments_lexer": "ipython3",
   "version": "3.9.6"
  }
 },
 "nbformat": 4,
 "nbformat_minor": 5
}
